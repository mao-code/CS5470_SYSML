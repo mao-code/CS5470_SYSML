{
 "cells": [
  {
   "cell_type": "code",
   "execution_count": 1,
   "id": "4b73bb81-c161-4a13-8ef7-95c5b6a73bf5",
   "metadata": {
    "scrolled": true
   },
   "outputs": [
    {
     "name": "stdout",
     "output_type": "stream",
     "text": [
      "Collecting transformers\n",
      "  Downloading transformers-4.56.0-py3-none-any.whl.metadata (40 kB)\n",
      "Requirement already satisfied: torch in /usr/local/lib/python3.11/dist-packages (2.8.0.dev20250319+cu128)\n",
      "Requirement already satisfied: filelock in /usr/local/lib/python3.11/dist-packages (from transformers) (3.16.1)\n",
      "Collecting huggingface-hub<1.0,>=0.34.0 (from transformers)\n",
      "  Downloading huggingface_hub-0.34.4-py3-none-any.whl.metadata (14 kB)\n",
      "Requirement already satisfied: numpy>=1.17 in /usr/local/lib/python3.11/dist-packages (from transformers) (1.26.4)\n",
      "Requirement already satisfied: packaging>=20.0 in /usr/local/lib/python3.11/dist-packages (from transformers) (24.2)\n",
      "Requirement already satisfied: pyyaml>=5.1 in /usr/local/lib/python3.11/dist-packages (from transformers) (6.0.2)\n",
      "Requirement already satisfied: regex!=2019.12.17 in /usr/local/lib/python3.11/dist-packages (from transformers) (2025.8.29)\n",
      "Requirement already satisfied: requests in /usr/local/lib/python3.11/dist-packages (from transformers) (2.32.3)\n",
      "Requirement already satisfied: tokenizers<=0.23.0,>=0.22.0 in /usr/local/lib/python3.11/dist-packages (from transformers) (0.22.0)\n",
      "Requirement already satisfied: safetensors>=0.4.3 in /usr/local/lib/python3.11/dist-packages (from transformers) (0.6.2)\n",
      "Requirement already satisfied: tqdm>=4.27 in /usr/local/lib/python3.11/dist-packages (from transformers) (4.67.1)\n",
      "Requirement already satisfied: typing-extensions>=4.10.0 in /usr/local/lib/python3.11/dist-packages (from torch) (4.12.2)\n",
      "Requirement already satisfied: sympy>=1.13.3 in /usr/local/lib/python3.11/dist-packages (from torch) (1.13.3)\n",
      "Requirement already satisfied: networkx in /usr/local/lib/python3.11/dist-packages (from torch) (3.4.2)\n",
      "Requirement already satisfied: jinja2 in /usr/local/lib/python3.11/dist-packages (from torch) (3.1.4)\n",
      "Requirement already satisfied: fsspec in /usr/local/lib/python3.11/dist-packages (from torch) (2024.10.0)\n",
      "Requirement already satisfied: nvidia-cuda-nvrtc-cu12==12.8.61 in /usr/local/lib/python3.11/dist-packages (from torch) (12.8.61)\n",
      "Requirement already satisfied: nvidia-cuda-runtime-cu12==12.8.57 in /usr/local/lib/python3.11/dist-packages (from torch) (12.8.57)\n",
      "Requirement already satisfied: nvidia-cuda-cupti-cu12==12.8.57 in /usr/local/lib/python3.11/dist-packages (from torch) (12.8.57)\n",
      "Requirement already satisfied: nvidia-cudnn-cu12==9.8.0.87 in /usr/local/lib/python3.11/dist-packages (from torch) (9.8.0.87)\n",
      "Requirement already satisfied: nvidia-cublas-cu12==12.8.3.14 in /usr/local/lib/python3.11/dist-packages (from torch) (12.8.3.14)\n",
      "Requirement already satisfied: nvidia-cufft-cu12==11.3.3.41 in /usr/local/lib/python3.11/dist-packages (from torch) (11.3.3.41)\n",
      "Requirement already satisfied: nvidia-curand-cu12==10.3.9.55 in /usr/local/lib/python3.11/dist-packages (from torch) (10.3.9.55)\n",
      "Requirement already satisfied: nvidia-cusolver-cu12==11.7.2.55 in /usr/local/lib/python3.11/dist-packages (from torch) (11.7.2.55)\n",
      "Requirement already satisfied: nvidia-cusparse-cu12==12.5.7.53 in /usr/local/lib/python3.11/dist-packages (from torch) (12.5.7.53)\n",
      "Requirement already satisfied: nvidia-cusparselt-cu12==0.6.3 in /usr/local/lib/python3.11/dist-packages (from torch) (0.6.3)\n",
      "Requirement already satisfied: nvidia-nccl-cu12==2.25.1 in /usr/local/lib/python3.11/dist-packages (from torch) (2.25.1)\n",
      "Requirement already satisfied: nvidia-nvtx-cu12==12.8.55 in /usr/local/lib/python3.11/dist-packages (from torch) (12.8.55)\n",
      "Requirement already satisfied: nvidia-nvjitlink-cu12==12.8.61 in /usr/local/lib/python3.11/dist-packages (from torch) (12.8.61)\n",
      "Requirement already satisfied: nvidia-cufile-cu12==1.13.0.11 in /usr/local/lib/python3.11/dist-packages (from torch) (1.13.0.11)\n",
      "Requirement already satisfied: pytorch-triton==3.3.0+git96316ce5 in /usr/local/lib/python3.11/dist-packages (from torch) (3.3.0+git96316ce5)\n",
      "Requirement already satisfied: setuptools>=40.8.0 in /usr/local/lib/python3.11/dist-packages (from pytorch-triton==3.3.0+git96316ce5->torch) (77.0.1)\n",
      "Requirement already satisfied: hf-xet<2.0.0,>=1.1.3 in /usr/local/lib/python3.11/dist-packages (from huggingface-hub<1.0,>=0.34.0->transformers) (1.1.9)\n",
      "Requirement already satisfied: mpmath<1.4,>=1.1.0 in /usr/local/lib/python3.11/dist-packages (from sympy>=1.13.3->torch) (1.3.0)\n",
      "Requirement already satisfied: MarkupSafe>=2.0 in /usr/local/lib/python3.11/dist-packages (from jinja2->torch) (2.1.5)\n",
      "Requirement already satisfied: charset-normalizer<4,>=2 in /usr/local/lib/python3.11/dist-packages (from requests->transformers) (3.4.1)\n",
      "Requirement already satisfied: idna<4,>=2.5 in /usr/local/lib/python3.11/dist-packages (from requests->transformers) (3.10)\n",
      "Requirement already satisfied: urllib3<3,>=1.21.1 in /usr/local/lib/python3.11/dist-packages (from requests->transformers) (2.3.0)\n",
      "Requirement already satisfied: certifi>=2017.4.17 in /usr/local/lib/python3.11/dist-packages (from requests->transformers) (2025.1.31)\n",
      "Downloading transformers-4.56.0-py3-none-any.whl (11.6 MB)\n",
      "\u001b[2K   \u001b[90m━━━━━━━━━━━━━━━━━━━━━━━━━━━━━━━━━━━━━━━━\u001b[0m \u001b[32m11.6/11.6 MB\u001b[0m \u001b[31m10.0 MB/s\u001b[0m eta \u001b[36m0:00:00\u001b[0ma \u001b[36m0:00:01\u001b[0m\n",
      "\u001b[?25hDownloading huggingface_hub-0.34.4-py3-none-any.whl (561 kB)\n",
      "\u001b[2K   \u001b[90m━━━━━━━━━━━━━━━━━━━━━━━━━━━━━━━━━━━━━━━━\u001b[0m \u001b[32m561.5/561.5 kB\u001b[0m \u001b[31m8.5 MB/s\u001b[0m eta \u001b[36m0:00:00\u001b[0m\n",
      "\u001b[?25hInstalling collected packages: huggingface-hub, transformers\n",
      "  Attempting uninstall: huggingface-hub\n",
      "    Found existing installation: huggingface-hub 0.32.6\n",
      "    Uninstalling huggingface-hub-0.32.6:\n",
      "      Successfully uninstalled huggingface-hub-0.32.6\n",
      "\u001b[31mERROR: pip's dependency resolver does not currently take into account all the packages that are installed. This behaviour is the source of the following dependency conflicts.\n",
      "litgpt 0.5.10 requires huggingface-hub<0.33,>=0.23.5, but you have huggingface-hub 0.34.4 which is incompatible.\u001b[0m\u001b[31m\n",
      "\u001b[0mSuccessfully installed huggingface-hub-0.34.4 transformers-4.56.0\n",
      "\u001b[33mWARNING: Running pip as the 'root' user can result in broken permissions and conflicting behaviour with the system package manager, possibly rendering your system unusable. It is recommended to use a virtual environment instead: https://pip.pypa.io/warnings/venv. Use the --root-user-action option if you know what you are doing and want to suppress this warning.\u001b[0m\u001b[33m\n",
      "\u001b[0m\n",
      "\u001b[1m[\u001b[0m\u001b[34;49mnotice\u001b[0m\u001b[1;39;49m]\u001b[0m\u001b[39;49m A new release of pip is available: \u001b[0m\u001b[31;49m25.0.1\u001b[0m\u001b[39;49m -> \u001b[0m\u001b[32;49m25.2\u001b[0m\n",
      "\u001b[1m[\u001b[0m\u001b[34;49mnotice\u001b[0m\u001b[1;39;49m]\u001b[0m\u001b[39;49m To update, run: \u001b[0m\u001b[32;49mpython -m pip install --upgrade pip\u001b[0m\n"
     ]
    }
   ],
   "source": [
    "!pip install transformers torch"
   ]
  },
  {
   "cell_type": "code",
   "execution_count": 2,
   "id": "5d0f46b6-9dd9-4dbd-bfb1-ec3bdd42545a",
   "metadata": {},
   "outputs": [
    {
     "name": "stderr",
     "output_type": "stream",
     "text": [
      "2025-09-03 12:03:48.118637: I tensorflow/core/platform/cpu_feature_guard.cc:210] This TensorFlow binary is optimized to use available CPU instructions in performance-critical operations.\n",
      "To enable the following instructions: AVX2 FMA, in other operations, rebuild TensorFlow with the appropriate compiler flags.\n"
     ]
    },
    {
     "data": {
      "application/vnd.jupyter.widget-view+json": {
       "model_id": "3fe86c342bf448fb81a8ce949608d12f",
       "version_major": 2,
       "version_minor": 0
      },
      "text/plain": [
       "config.json:   0%|          | 0.00/665 [00:00<?, ?B/s]"
      ]
     },
     "metadata": {},
     "output_type": "display_data"
    },
    {
     "data": {
      "application/vnd.jupyter.widget-view+json": {
       "model_id": "5163b38643a34ccab0ecef58028f37d3",
       "version_major": 2,
       "version_minor": 0
      },
      "text/plain": [
       "model.safetensors:   0%|          | 0.00/548M [00:00<?, ?B/s]"
      ]
     },
     "metadata": {},
     "output_type": "display_data"
    }
   ],
   "source": [
    "from transformers import GPT2Model\n",
    "model = GPT2Model.from_pretrained('gpt2')"
   ]
  },
  {
   "cell_type": "code",
   "execution_count": 14,
   "id": "d2bd52a6-ad10-4cdd-9ab2-3167154d9db7",
   "metadata": {},
   "outputs": [
    {
     "name": "stdout",
     "output_type": "stream",
     "text": [
      "GPT2Model(\n",
      "  (wte): Embedding(50257, 768)\n",
      "  (wpe): Embedding(1024, 768)\n",
      "  (drop): Dropout(p=0.1, inplace=False)\n",
      "  (h): ModuleList(\n",
      "    (0-11): 12 x GPT2Block(\n",
      "      (ln_1): LayerNorm((768,), eps=1e-05, elementwise_affine=True)\n",
      "      (attn): GPT2Attention(\n",
      "        (c_attn): Conv1D(nf=2304, nx=768)\n",
      "        (c_proj): Conv1D(nf=768, nx=768)\n",
      "        (attn_dropout): Dropout(p=0.1, inplace=False)\n",
      "        (resid_dropout): Dropout(p=0.1, inplace=False)\n",
      "      )\n",
      "      (ln_2): LayerNorm((768,), eps=1e-05, elementwise_affine=True)\n",
      "      (mlp): GPT2MLP(\n",
      "        (c_fc): Conv1D(nf=3072, nx=768)\n",
      "        (c_proj): Conv1D(nf=768, nx=3072)\n",
      "        (act): NewGELUActivation()\n",
      "        (dropout): Dropout(p=0.1, inplace=False)\n",
      "      )\n",
      "    )\n",
      "  )\n",
      "  (ln_f): LayerNorm((768,), eps=1e-05, elementwise_affine=True)\n",
      ")\n"
     ]
    }
   ],
   "source": [
    "print(model)"
   ]
  },
  {
   "cell_type": "code",
   "execution_count": 15,
   "id": "ee1978ee-8552-4938-b2ca-049d2f3335b8",
   "metadata": {},
   "outputs": [
    {
     "name": "stdout",
     "output_type": "stream",
     "text": [
      "GPT2Model(\n",
      "  (wte): Embedding(50257, 768)\n",
      "  (wpe): Embedding(1024, 768)\n",
      "  (drop): Dropout(p=0.1, inplace=False)\n",
      "  (h): ModuleList(\n",
      "    (0-11): 12 x GPT2Block(\n",
      "      (ln_1): LayerNorm((768,), eps=1e-05, elementwise_affine=True)\n",
      "      (attn): GPT2Attention(\n",
      "        (c_attn): Conv1D(nf=2304, nx=768)\n",
      "        (c_proj): Conv1D(nf=768, nx=768)\n",
      "        (attn_dropout): Dropout(p=0.1, inplace=False)\n",
      "        (resid_dropout): Dropout(p=0.1, inplace=False)\n",
      "      )\n",
      "      (ln_2): LayerNorm((768,), eps=1e-05, elementwise_affine=True)\n",
      "      (mlp): GPT2MLP(\n",
      "        (c_fc): Conv1D(nf=3072, nx=768)\n",
      "        (c_proj): Conv1D(nf=768, nx=3072)\n",
      "        (act): NewGELUActivation()\n",
      "        (dropout): Dropout(p=0.1, inplace=False)\n",
      "      )\n",
      "    )\n",
      "  )\n",
      "  (ln_f): LayerNorm((768,), eps=1e-05, elementwise_affine=True)\n",
      ")\n",
      "Total # of params: 124.44M\n"
     ]
    }
   ],
   "source": [
    "def count_params(model, is_human: bool = False):\n",
    "    # model.parameters() function call returns an iterator over all the parameters in the model\n",
    "    # p.requires_grad checks if these parameters require gradients in the backprop or in other words are they \"learnable\"\n",
    "    # numel = number of elements in the parameter tensor (flatten the tensor and count entries)\n",
    "    params: int = sum(p.numel() for p in model.parameters() if p.requires_grad)\n",
    "    return f\"{params / 1e6:.2f}M\" if is_human else params\n",
    "\n",
    "print(model)\n",
    "print(\"Total # of params:\", count_params(model, is_human=True))"
   ]
  },
  {
   "cell_type": "markdown",
   "id": "5228dfdb-1aab-4b9d-b3d6-f35637b1ff82",
   "metadata": {},
   "source": [
    "Compute the number of parameters in the embedding layers"
   ]
  },
  {
   "cell_type": "code",
   "execution_count": 11,
   "id": "d3781e79-ff1a-498b-8727-a3d4a694e7a9",
   "metadata": {},
   "outputs": [
    {
     "name": "stdout",
     "output_type": "stream",
     "text": [
      "wte | Expected: 38597376\n",
      "wte | True:     38597376\n",
      "wpe | Expected: 786432\n",
      "wpe | True:     786432\n"
     ]
    }
   ],
   "source": [
    "V = model.config.vocab_size # vocabulary size\n",
    "E = model.config.n_embd # embedding dimension\n",
    "P = model.config.n_positions # sequence length\n",
    "expected_wte = V * E\n",
    "expected_wpe: int = P * E\n",
    "print(f\"wte | Expected: {expected_wte}\")\n",
    "print(f\"wte | True:     {count_params(model._modules['wte'])}\")\n",
    "print(f\"wpe | Expected: {expected_wpe}\")\n",
    "print(f\"wpe | True:     {count_params(model._modules['wpe'])}\")\n"
   ]
  },
  {
   "cell_type": "code",
   "execution_count": 5,
   "id": "cfee5ea4-a9ae-4150-a04a-4d7d6f0d50ef",
   "metadata": {},
   "outputs": [
    {
     "name": "stdout",
     "output_type": "stream",
     "text": [
      "ln_1 | Expected: 1536\n",
      "ln_1 | True:     1536\n"
     ]
    }
   ],
   "source": [
    "expected_ln_1 = 2 * E\n",
    "print(f\"ln_1 | Expected: {expected_ln_1}\")\n",
    "print(f\"ln_1 | True:     {count_params(model._modules['h'][0].ln_1)}\")"
   ]
  },
  {
   "cell_type": "code",
   "execution_count": 6,
   "id": "8eacc819-5aa6-47a6-a819-4e77293e7eb0",
   "metadata": {},
   "outputs": [
    {
     "name": "stdout",
     "output_type": "stream",
     "text": [
      "c_attn | Expected: 1771776\n",
      "c_attn | True:     1771776\n",
      "c_proj | Expected: 590592\n",
      "c_proj | True:     590592\n",
      "attn_dropout | Expected: 0\n",
      "attn_dropout | True:     0\n",
      "resid_dropout | Expected: 0\n",
      "resid_dropout | True:     0\n",
      "attn | Expected: 2362368\n",
      "attn | True:     2362368\n"
     ]
    }
   ],
   "source": [
    "expected_c_attn = E * (3 * E) + (3 * E)\n",
    "expected_c_proj = E * E + E\n",
    "expected_attn_dropout = 0\n",
    "expected_resid_dropout = 0\n",
    "expected_attn = expected_c_attn + expected_c_proj + expected_attn_dropout + expected_resid_dropout\n",
    "print(f\"c_attn | Expected: {expected_c_attn}\")\n",
    "print(f\"c_attn | True:     {count_params(model._modules['h'][0].attn.c_attn)}\")\n",
    "print(f\"c_proj | Expected: {expected_c_proj}\")\n",
    "print(f\"c_proj | True:     {count_params(model._modules['h'][0].attn.c_proj)}\")\n",
    "print(f\"attn_dropout | Expected: {expected_attn_dropout}\")\n",
    "print(f\"attn_dropout | True:     {count_params(model._modules['h'][0].attn.attn_dropout)}\")\n",
    "print(f\"resid_dropout | Expected: {expected_resid_dropout}\")\n",
    "print(f\"resid_dropout | True:     {count_params(model._modules['h'][0].attn.resid_dropout)}\")\n",
    "print(f\"attn | Expected: {expected_attn}\")\n",
    "print(f\"attn | True:     {count_params(model._modules['h'][0].attn)}\")"
   ]
  },
  {
   "cell_type": "code",
   "execution_count": 7,
   "id": "45005867-2b4b-419b-9721-4df146d7ec05",
   "metadata": {},
   "outputs": [
    {
     "name": "stdout",
     "output_type": "stream",
     "text": [
      "ln_2 | Expected: 1536\n",
      "ln_2 | True:     1536\n"
     ]
    }
   ],
   "source": [
    "expected_ln_2 = 2 * E\n",
    "print(f\"ln_2 | Expected: {expected_ln_2}\")\n",
    "print(f\"ln_2 | True:     {count_params(model._modules['h'][0].ln_2)}\")"
   ]
  },
  {
   "cell_type": "code",
   "execution_count": 12,
   "id": "2612096d-9076-4103-97c7-e6337ccefdeb",
   "metadata": {},
   "outputs": [
    {
     "name": "stdout",
     "output_type": "stream",
     "text": [
      "c_fc | Expected: 2362368\n",
      "c_fc | True:     2362368\n",
      "c_proj | Expected: 2360064\n",
      "c_proj | True:     2360064\n",
      "act | Expected: 0\n",
      "act | True:     0\n",
      "dropout | Expected: 0\n",
      "dropout | True:     0\n",
      "mlp | Expected: 4722432\n",
      "mlp | True:     4722432\n"
     ]
    }
   ],
   "source": [
    "H = 4 * E\n",
    "expected_c_fc = E * H + H\n",
    "expected_c_proj = H * E + E\n",
    "expected_act = 0\n",
    "expected_dropout = 0\n",
    "expected_mlp = expected_c_fc + expected_c_proj + expected_act + expected_dropout\n",
    "print(f\"c_fc | Expected: {expected_c_fc}\")\n",
    "print(f\"c_fc | True:     {count_params(model._modules['h'][0].mlp.c_fc)}\")\n",
    "print(f\"c_proj | Expected: {expected_c_proj}\")\n",
    "print(f\"c_proj | True:     {count_params(model._modules['h'][0].mlp.c_proj)}\")\n",
    "print(f\"act | Expected: {expected_act}\")\n",
    "print(f\"act | True:     {count_params(model._modules['h'][0].mlp.act)}\")\n",
    "print(f\"dropout | Expected: {expected_dropout}\")\n",
    "print(f\"dropout | True:     {count_params(model._modules['h'][0].mlp.dropout)}\")\n",
    "print(f\"mlp | Expected: {expected_mlp}\")\n",
    "print(f\"mlp | True:     {count_params(model._modules['h'][0].mlp)}\")"
   ]
  },
  {
   "cell_type": "code",
   "execution_count": 9,
   "id": "67ffc51f-ca48-4995-af61-c7048b1b184f",
   "metadata": {},
   "outputs": [
    {
     "name": "stdout",
     "output_type": "stream",
     "text": [
      "ln_f | Expected: 1536\n",
      "ln_f | True:     1536\n"
     ]
    }
   ],
   "source": [
    "expected_ln_f = 2 * E\n",
    "print(f\"ln_f | Expected: {expected_ln_f}\")\n",
    "print(f\"ln_f | True:     {count_params(model._modules['ln_f'])}\")\n"
   ]
  },
  {
   "cell_type": "code",
   "execution_count": 10,
   "id": "4fb60037-d53e-4b44-bf0e-21847fc5203b",
   "metadata": {},
   "outputs": [
    {
     "name": "stdout",
     "output_type": "stream",
     "text": [
      "gpt2 | Expected: 124439808\n",
      "gpt2 | True:     124439808\n"
     ]
    }
   ],
   "source": [
    "L = model.config.n_layer\n",
    "expected_gpt2 = E * (V + P) + L * (12 * E * E + 13 * E) + (2 * E)\n",
    "print(f\"gpt2 | Expected: {expected_gpt2}\")\n",
    "print(f\"gpt2 | True:     {count_params(model)}\")"
   ]
  }
 ],
 "metadata": {
  "kernelspec": {
   "display_name": "Python 3 (ipykernel)",
   "language": "python",
   "name": "python3"
  },
  "language_info": {
   "codemirror_mode": {
    "name": "ipython",
    "version": 3
   },
   "file_extension": ".py",
   "mimetype": "text/x-python",
   "name": "python",
   "nbconvert_exporter": "python",
   "pygments_lexer": "ipython3",
   "version": "3.11.11"
  }
 },
 "nbformat": 4,
 "nbformat_minor": 5
}
